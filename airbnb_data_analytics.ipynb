{
 "cells": [
  {
   "cell_type": "markdown",
   "metadata": {},
   "source": [
    "# AirBNB homes in Seattle and Boston.\n",
    "\n",
    "In this notebook, I will answer three questions below:\n",
    "\n",
    "1. What is the important element for hosts/rooms to be booked maltiple times?\n",
    "2. Waht is the price range of hosts/rooms booked maltiple times?\n",
    "3. What are the hosts/rooms' features with higher review score?"
   ]
  },
  {
   "cell_type": "code",
   "execution_count": 1,
   "metadata": {},
   "outputs": [],
   "source": [
    "# import libralies here\n",
    "\n",
    "import numpy as np\n",
    "import pandas as pd\n",
    "import matplotlib.pyplot as plt\n",
    "from sklearn.cluster import KMeans\n",
    "from sklearn.preprocessing import StandardScaler as sc\n",
    "\n",
    "%matplotlib inline"
   ]
  },
  {
   "cell_type": "code",
   "execution_count": 2,
   "metadata": {},
   "outputs": [],
   "source": [
    "pd.set_option('display.max_columns', 100)"
   ]
  },
  {
   "cell_type": "code",
   "execution_count": 3,
   "metadata": {},
   "outputs": [],
   "source": [
    "# read csv files that wil be used for nswering questions\n",
    "\n",
    "seattle  = pd.read_csv('seattle_listtings.csv')\n",
    "boston = pd.read_csv('boston_listings.csv')"
   ]
  },
  {
   "cell_type": "markdown",
   "metadata": {},
   "source": [
    "Source of the data sets ^: http://insideairbnb.com/get-the-data.html"
   ]
  },
  {
   "cell_type": "code",
   "execution_count": 4,
   "metadata": {},
   "outputs": [
    {
     "name": "stdout",
     "output_type": "stream",
     "text": [
      "7017\n",
      "3440\n"
     ]
    }
   ],
   "source": [
    "# checking the length of each data frame in case\n",
    "print(len(seattle))\n",
    "print(len(boston))"
   ]
  },
  {
   "cell_type": "markdown",
   "metadata": {},
   "source": [
    "## 1. Data cleaning\n",
    "- Combine dataframes of house in Seattle and on Boston in 2020.\n",
    "- Making data frame of hosts who offered their place over 2 times in 2020 to answer question 1 and 2."
   ]
  },
  {
   "cell_type": "code",
   "execution_count": 5,
   "metadata": {},
   "outputs": [
    {
     "data": {
      "text/plain": [
       "array([ True,  True,  True,  True,  True,  True,  True,  True,  True,\n",
       "        True,  True,  True,  True,  True,  True,  True,  True,  True,\n",
       "        True,  True,  True,  True,  True,  True,  True,  True,  True,\n",
       "        True,  True,  True,  True,  True,  True,  True,  True,  True,\n",
       "        True,  True,  True,  True,  True,  True,  True,  True,  True,\n",
       "        True,  True,  True,  True,  True,  True,  True,  True,  True,\n",
       "        True,  True,  True,  True,  True,  True,  True,  True,  True,\n",
       "        True,  True,  True,  True,  True,  True,  True,  True,  True,\n",
       "        True,  True,  True,  True,  True,  True,  True,  True,  True,\n",
       "        True,  True,  True,  True,  True,  True,  True,  True,  True,\n",
       "        True,  True,  True,  True,  True,  True,  True,  True,  True,\n",
       "        True,  True,  True,  True,  True,  True,  True])"
      ]
     },
     "execution_count": 5,
     "metadata": {},
     "output_type": "execute_result"
    }
   ],
   "source": [
    "# checking if the dataframs have the same columns\n",
    "seattle.columns == boston.columns"
   ]
  },
  {
   "cell_type": "code",
   "execution_count": 6,
   "metadata": {},
   "outputs": [
    {
     "data": {
      "text/plain": [
       "10457"
      ]
     },
     "execution_count": 6,
     "metadata": {},
     "output_type": "execute_result"
    }
   ],
   "source": [
    "# Combining the data frames\n",
    "master_df = pd.concat([seattle, boston])\n",
    "# Changing the name of id to listing_id\n",
    "master_df.rename(columns={'id':'listing_id'}, inplace = True)\n",
    "#Checking the lenght in case.\n",
    "master_df.shape[0]"
   ]
  },
  {
   "cell_type": "code",
   "execution_count": 7,
   "metadata": {},
   "outputs": [],
   "source": [
    "# make a function \n",
    "\n",
    "def host_multiple(number): \n",
    "    \n",
    "    \"\"\"\n",
    "    Description: This function can be used to make a data frame of the hosts/rooms which are booked multiple times. \n",
    "    You can set the times by changing the arguments. (e.g. 2 => booked over 2 times. 5 => booked over 5 times)\n",
    "\n",
    "    Arguments:\n",
    "    number: Over how many times the hosts/rooms are booked. \n",
    "    \n",
    "    Returns:\n",
    "    popular_host (data frame)\n",
    "    \"\"\"\n",
    "\n",
    "    popular_host = master_df.groupby('host_id').count()\n",
    "    popular_host = popular_host.loc[popular_host[\"listing_id\"] >= number]\n",
    "    popular_host.rename(columns = {\"listing_id\":\"Count\"}, inplace = True)\n",
    "    popular_host = popular_host[[\"Count\", \"listing_url\"]]\n",
    "    popular_host = popular_host.merge(master_df, how= \"left\", on = \"host_id\")\n",
    "    popular_host.drop(['listing_url_x'], axis=1, inplace = True)\n",
    "\n",
    "    return popular_host"
   ]
  },
  {
   "cell_type": "code",
   "execution_count": 8,
   "metadata": {},
   "outputs": [],
   "source": [
    "#Making data set of host who offered their room multiple times (over 2)\n",
    "popular_host = host_multiple(2)"
   ]
  },
  {
   "cell_type": "code",
   "execution_count": 9,
   "metadata": {},
   "outputs": [
    {
     "data": {
      "text/plain": [
       "(6187, 3)"
      ]
     },
     "execution_count": 9,
     "metadata": {},
     "output_type": "execute_result"
    }
   ],
   "source": [
    "popular_host_clusterning = popular_host[['host_id','review_scores_rating', 'host_response_rate', 'price']].set_index('host_id')\n",
    "popular_host_clusterning['host_response_rate'] = popular_host_clusterning['host_response_rate'].str.replace('%', '').astype('float')\n",
    "popular_host_clusterning['price'] = popular_host_clusterning['price'].str.replace('$', '')\n",
    "popular_host_clusterning['price'] = popular_host_clusterning['price'].str.replace(',', '').astype('float')\n",
    "popular_host_clusterning.shape"
   ]
  },
  {
   "cell_type": "code",
   "execution_count": 10,
   "metadata": {},
   "outputs": [
    {
     "data": {
      "text/plain": [
       "review_scores_rating    1232\n",
       "host_response_rate       608\n",
       "price                      0\n",
       "dtype: int64"
      ]
     },
     "execution_count": 10,
     "metadata": {},
     "output_type": "execute_result"
    }
   ],
   "source": [
    "popular_host_clusterning.isna().sum()"
   ]
  },
  {
   "cell_type": "code",
   "execution_count": 11,
   "metadata": {},
   "outputs": [
    {
     "data": {
      "text/plain": [
       "93.42078708375378"
      ]
     },
     "execution_count": 11,
     "metadata": {},
     "output_type": "execute_result"
    }
   ],
   "source": [
    "popular_host_clusterning.review_scores_rating.mean()"
   ]
  },
  {
   "cell_type": "markdown",
   "metadata": {},
   "source": [
    "For clustering, I will simply drop missing values.  \n",
    "\n",
    "I will find the features of hosts/rooms booked multiple times. In this case, replacing missing values in \"review_scores_rating\" and \"host_response_rate\" would be lead to incorrect rrsults.   \n",
    "\n",
    "For example, the mean value of \"review_scores_rating\" about 94. If I replace all missing values with the mean, it means more hosts get higher quite high review score and I cannnot say it reflects actual review scores.   \n",
    "Also, I will still have 4955 values after dropping. It is enough number to find the features.  \n",
    "\n",
    "Hence, I will drop missing values."
   ]
  },
  {
   "cell_type": "code",
   "execution_count": 12,
   "metadata": {},
   "outputs": [],
   "source": [
    "popular_host_clusterning.dropna(inplace = True)"
   ]
  },
  {
   "cell_type": "code",
   "execution_count": 13,
   "metadata": {},
   "outputs": [
    {
     "data": {
      "text/plain": [
       "review_scores_rating    0\n",
       "host_response_rate      0\n",
       "price                   0\n",
       "dtype: int64"
      ]
     },
     "execution_count": 13,
     "metadata": {},
     "output_type": "execute_result"
    }
   ],
   "source": [
    "popular_host_clusterning.isna().sum()"
   ]
  },
  {
   "cell_type": "markdown",
   "metadata": {},
   "source": [
    "## 2. Data Analysis"
   ]
  },
  {
   "cell_type": "markdown",
   "metadata": {},
   "source": [
    "### 2.1. Analyzing features of hosts who offered their place over two times by using clusterinig\n",
    "\n",
    "In this section, I will use clustering to find the features of hosts who offered their room to guests over 2 times to answer the question 1 and 2.\n",
    "\n",
    "The elements of this analysis are: \n",
    "1. review_scores_rating\n",
    "2. host_response_rate\n",
    "3. price"
   ]
  },
  {
   "cell_type": "code",
   "execution_count": 14,
   "metadata": {},
   "outputs": [
    {
     "data": {
      "text/plain": [
       "Index(['review_scores_rating', 'host_response_rate', 'price'], dtype='object')"
      ]
     },
     "execution_count": 14,
     "metadata": {},
     "output_type": "execute_result"
    }
   ],
   "source": [
    "popular_host_clusterning.columns"
   ]
  },
  {
   "cell_type": "code",
   "execution_count": 15,
   "metadata": {},
   "outputs": [],
   "source": [
    "popular_host_clusterning = popular_host_clusterning.groupby('host_id').agg(\n",
    "    {'review_scores_rating': 'mean',\n",
    "     'host_response_rate': 'mean',\n",
    "     'price': 'mean'\n",
    "    })"
   ]
  },
  {
   "cell_type": "code",
   "execution_count": 16,
   "metadata": {},
   "outputs": [
    {
     "data": {
      "text/plain": [
       "review_scores_rating    float64\n",
       "host_response_rate      float64\n",
       "price                   float64\n",
       "dtype: object"
      ]
     },
     "execution_count": 16,
     "metadata": {},
     "output_type": "execute_result"
    }
   ],
   "source": [
    "popular_host_clusterning.dtypes"
   ]
  },
  {
   "cell_type": "code",
   "execution_count": 17,
   "metadata": {
    "scrolled": true
   },
   "outputs": [],
   "source": [
    "from sklearn.cluster import KMeans\n",
    "from sklearn.preprocessing import StandardScaler\n",
    "sc = StandardScaler()\n",
    "popular_host_clusterning_sc = sc.fit_transform(popular_host_clusterning)"
   ]
  },
  {
   "cell_type": "code",
   "execution_count": 18,
   "metadata": {},
   "outputs": [
    {
     "name": "stdout",
     "output_type": "stream",
     "text": [
      "[5 4 0 1 3 2]\n"
     ]
    },
    {
     "data": {
      "text/html": [
       "<div>\n",
       "<style scoped>\n",
       "    .dataframe tbody tr th:only-of-type {\n",
       "        vertical-align: middle;\n",
       "    }\n",
       "\n",
       "    .dataframe tbody tr th {\n",
       "        vertical-align: top;\n",
       "    }\n",
       "\n",
       "    .dataframe thead th {\n",
       "        text-align: right;\n",
       "    }\n",
       "</style>\n",
       "<table border=\"1\" class=\"dataframe\">\n",
       "  <thead>\n",
       "    <tr style=\"text-align: right;\">\n",
       "      <th></th>\n",
       "      <th>review_scores_rating</th>\n",
       "      <th>host_response_rate</th>\n",
       "      <th>price</th>\n",
       "      <th>cluster</th>\n",
       "    </tr>\n",
       "    <tr>\n",
       "      <th>host_id</th>\n",
       "      <th></th>\n",
       "      <th></th>\n",
       "      <th></th>\n",
       "      <th></th>\n",
       "    </tr>\n",
       "  </thead>\n",
       "  <tbody>\n",
       "    <tr>\n",
       "      <th>2536</th>\n",
       "      <td>96.500000</td>\n",
       "      <td>67.0</td>\n",
       "      <td>200.500000</td>\n",
       "      <td>5</td>\n",
       "    </tr>\n",
       "    <tr>\n",
       "      <th>4193</th>\n",
       "      <td>95.666667</td>\n",
       "      <td>100.0</td>\n",
       "      <td>35.000000</td>\n",
       "      <td>4</td>\n",
       "    </tr>\n",
       "    <tr>\n",
       "      <th>7969</th>\n",
       "      <td>89.500000</td>\n",
       "      <td>83.0</td>\n",
       "      <td>25.500000</td>\n",
       "      <td>0</td>\n",
       "    </tr>\n",
       "    <tr>\n",
       "      <th>8229</th>\n",
       "      <td>95.000000</td>\n",
       "      <td>100.0</td>\n",
       "      <td>187.666667</td>\n",
       "      <td>4</td>\n",
       "    </tr>\n",
       "    <tr>\n",
       "      <th>14942</th>\n",
       "      <td>93.000000</td>\n",
       "      <td>100.0</td>\n",
       "      <td>169.666667</td>\n",
       "      <td>0</td>\n",
       "    </tr>\n",
       "  </tbody>\n",
       "</table>\n",
       "</div>"
      ],
      "text/plain": [
       "         review_scores_rating  host_response_rate       price  cluster\n",
       "host_id                                                               \n",
       "2536                96.500000                67.0  200.500000        5\n",
       "4193                95.666667               100.0   35.000000        4\n",
       "7969                89.500000                83.0   25.500000        0\n",
       "8229                95.000000               100.0  187.666667        4\n",
       "14942               93.000000               100.0  169.666667        0"
      ]
     },
     "execution_count": 18,
     "metadata": {},
     "output_type": "execute_result"
    }
   ],
   "source": [
    "kmeans = KMeans(n_clusters=6, random_state=0)\n",
    "clusters = kmeans.fit(popular_host_clusterning_sc)\n",
    "popular_host_clusterning[\"cluster\"] = clusters.labels_\n",
    "print(popular_host_clusterning[\"cluster\"].unique())\n",
    "popular_host_clusterning.head()"
   ]
  },
  {
   "cell_type": "code",
   "execution_count": 19,
   "metadata": {},
   "outputs": [
    {
     "data": {
      "text/plain": [
       "972"
      ]
     },
     "execution_count": 19,
     "metadata": {},
     "output_type": "execute_result"
    }
   ],
   "source": [
    "len(popular_host_clusterning)"
   ]
  },
  {
   "cell_type": "code",
   "execution_count": 46,
   "metadata": {},
   "outputs": [],
   "source": [
    "count = popular_host_clusterning.groupby(\"cluster\").count()\n",
    "count.rename(columns = {\"review_scores_rating\":\"count\",\"host_response_rate\": \"count3\",\"price\":\"count3\"}, inplace = True)\n",
    "mean = popular_host_clusterning.groupby(\"cluster\").mean()\n",
    "clustering_table = mean.merge(count, how = 'left', on = 'cluster')\n",
    "clustering_table = clustering_table.iloc[:,:4]"
   ]
  },
  {
   "cell_type": "code",
   "execution_count": 47,
   "metadata": {},
   "outputs": [
    {
     "data": {
      "text/html": [
       "<div>\n",
       "<style scoped>\n",
       "    .dataframe tbody tr th:only-of-type {\n",
       "        vertical-align: middle;\n",
       "    }\n",
       "\n",
       "    .dataframe tbody tr th {\n",
       "        vertical-align: top;\n",
       "    }\n",
       "\n",
       "    .dataframe thead th {\n",
       "        text-align: right;\n",
       "    }\n",
       "</style>\n",
       "<table border=\"1\" class=\"dataframe\">\n",
       "  <thead>\n",
       "    <tr style=\"text-align: right;\">\n",
       "      <th></th>\n",
       "      <th>review_scores_rating</th>\n",
       "      <th>host_response_rate</th>\n",
       "      <th>price</th>\n",
       "      <th>count</th>\n",
       "    </tr>\n",
       "    <tr>\n",
       "      <th>cluster</th>\n",
       "      <th></th>\n",
       "      <th></th>\n",
       "      <th></th>\n",
       "      <th></th>\n",
       "    </tr>\n",
       "  </thead>\n",
       "  <tbody>\n",
       "    <tr>\n",
       "      <th>0</th>\n",
       "      <td>90.193588</td>\n",
       "      <td>98.115063</td>\n",
       "      <td>123.672207</td>\n",
       "      <td>199</td>\n",
       "    </tr>\n",
       "    <tr>\n",
       "      <th>1</th>\n",
       "      <td>91.121795</td>\n",
       "      <td>20.625000</td>\n",
       "      <td>188.901442</td>\n",
       "      <td>16</td>\n",
       "    </tr>\n",
       "    <tr>\n",
       "      <th>2</th>\n",
       "      <td>85.500000</td>\n",
       "      <td>97.000000</td>\n",
       "      <td>10000.000000</td>\n",
       "      <td>1</td>\n",
       "    </tr>\n",
       "    <tr>\n",
       "      <th>3</th>\n",
       "      <td>73.753756</td>\n",
       "      <td>91.400000</td>\n",
       "      <td>225.595855</td>\n",
       "      <td>25</td>\n",
       "    </tr>\n",
       "    <tr>\n",
       "      <th>4</th>\n",
       "      <td>97.427703</td>\n",
       "      <td>99.323398</td>\n",
       "      <td>150.147864</td>\n",
       "      <td>671</td>\n",
       "    </tr>\n",
       "    <tr>\n",
       "      <th>5</th>\n",
       "      <td>95.348731</td>\n",
       "      <td>72.183333</td>\n",
       "      <td>151.465393</td>\n",
       "      <td>60</td>\n",
       "    </tr>\n",
       "  </tbody>\n",
       "</table>\n",
       "</div>"
      ],
      "text/plain": [
       "         review_scores_rating  host_response_rate         price  count\n",
       "cluster                                                               \n",
       "0                   90.193588           98.115063    123.672207    199\n",
       "1                   91.121795           20.625000    188.901442     16\n",
       "2                   85.500000           97.000000  10000.000000      1\n",
       "3                   73.753756           91.400000    225.595855     25\n",
       "4                   97.427703           99.323398    150.147864    671\n",
       "5                   95.348731           72.183333    151.465393     60"
      ]
     },
     "execution_count": 47,
     "metadata": {},
     "output_type": "execute_result"
    }
   ],
   "source": [
    "clustering_table"
   ]
  },
  {
   "cell_type": "markdown",
   "metadata": {},
   "source": [
    "### FInding 2.1."
   ]
  },
  {
   "cell_type": "markdown",
   "metadata": {},
   "source": [
    "We can devide the popular hosts into 6 groups:\n",
    "\n",
    "0. high review score (90), high response rate (98), average price 123 - Total(199)\n",
    "1. high review score (91), very low response rate (21), average price 188 - Total(16)\n",
    "2. Exceptioanl case, very high price 10000 - Only 1\n",
    "3. low review score (73), high response rate (91), average price 226 - Total(25)\n",
    "4. highest review score (98), highest response rate (99), average price 150 - Total(671)\n",
    "5. high review score (95), low response rate (72), average price 152 - Total(60)\n",
    "\n",
    "Group 4 is the most poupar group in all, and its features are \"highest review score (98), highest response rate (99), average price 150\"\n",
    "The second biggest destribution of them is occupied by group 0 with the features of high review score (90), high response rate (98), average price 123. "
   ]
  },
  {
   "cell_type": "code",
   "execution_count": 22,
   "metadata": {},
   "outputs": [
    {
     "name": "stdout",
     "output_type": "stream",
     "text": [
      "171.5\n",
      "253.2933333333333\n"
     ]
    }
   ],
   "source": [
    "print(np.percentile(popular_host_clusterning['price'], 75))\n",
    "print(np.percentile(popular_host_clusterning['price'], 90))"
   ]
  },
  {
   "cell_type": "code",
   "execution_count": 23,
   "metadata": {},
   "outputs": [
    {
     "data": {
      "text/plain": [
       "Text(0.5, 0, 'Price')"
      ]
     },
     "execution_count": 23,
     "metadata": {},
     "output_type": "execute_result"
    },
    {
     "data": {
      "image/png": "[encoded data removed]",
      "text/plain": [
       "<Figure size 432x288 with 1 Axes>"
      ]
     },
     "metadata": {
      "needs_background": "light"
     },
     "output_type": "display_data"
    }
   ],
   "source": [
    "plt.hist(data=popular_host_clusterning, x='price', bins=np.arange(0, 300, 10))\n",
    "plt.xticks(np.arange(0, 300, 20))\n",
    "plt.xlabel('Price')"
   ]
  },
  {
   "cell_type": "code",
   "execution_count": 24,
   "metadata": {},
   "outputs": [
    {
     "data": {
      "text/plain": [
       "0.7170781893004116"
      ]
     },
     "execution_count": 24,
     "metadata": {},
     "output_type": "execute_result"
    }
   ],
   "source": [
    "# pecentage of rooms with the cost $40 to 170\n",
    "price_40_170 = popular_host_clusterning[(popular_host_clusterning['price'] > 40)&(popular_host_clusterning['price'] < 170)] \n",
    "len(popular_host_clusterning)\n",
    "len(price_40_170)/len(popular_host_clusterning)"
   ]
  },
  {
   "cell_type": "markdown",
   "metadata": {},
   "source": [
    "As the hist graph shows, 75% of average price is lower than $172.<br>\n",
    "Also, 72% of room price is between ＄40 and ＄170. "
   ]
  },
  {
   "cell_type": "markdown",
   "metadata": {},
   "source": [
    "### 2.2. Analyze the status of cancelation policy of high rated place.\n",
    "Next, I will analyze the elements causing higher review scores."
   ]
  },
  {
   "cell_type": "code",
   "execution_count": 25,
   "metadata": {},
   "outputs": [],
   "source": [
    "# Make a dataframe of places whose review_scores_rating is over  95\n",
    "high = master_df[master_df['review_scores_rating'] >= 95]"
   ]
  },
  {
   "cell_type": "code",
   "execution_count": 26,
   "metadata": {},
   "outputs": [
    {
     "data": {
      "text/plain": [
       "array(['strict_14_with_grace_period', 'moderate', 'flexible',\n",
       "       'super_strict_60', 'super_strict_30', 'strict'], dtype=object)"
      ]
     },
     "execution_count": 26,
     "metadata": {},
     "output_type": "execute_result"
    }
   ],
   "source": [
    "high.cancellation_policy.unique()"
   ]
  },
  {
   "cell_type": "markdown",
   "metadata": {},
   "source": [
    "Strict cacellation policy is devided into three categories.\n",
    "To make them simple, I will make one group for them."
   ]
  },
  {
   "cell_type": "code",
   "execution_count": 27,
   "metadata": {},
   "outputs": [
    {
     "name": "stderr",
     "output_type": "stream",
     "text": [
      "/opt/anaconda3/lib/python3.7/site-packages/ipykernel_launcher.py:2: SettingWithCopyWarning: \n",
      "A value is trying to be set on a copy of a slice from a DataFrame.\n",
      "Try using .loc[row_indexer,col_indexer] = value instead\n",
      "\n",
      "See the caveats in the documentation: https://pandas.pydata.org/pandas-docs/stable/user_guide/indexing.html#returning-a-view-versus-a-copy\n",
      "  \n"
     ]
    }
   ],
   "source": [
    "for st in ['strict_14_with_grace_period','super_strict_60', 'super_strict_30']:\n",
    "    high['cancellation_policy'] = high['cancellation_policy'].str.replace(st, 'strict')"
   ]
  },
  {
   "cell_type": "code",
   "execution_count": 28,
   "metadata": {},
   "outputs": [
    {
     "data": {
      "text/plain": [
       "(-1.1207771737602314,\n",
       " 1.1206705015781901,\n",
       " -1.11441980706056,\n",
       " 1.1270278682778616)"
      ]
     },
     "execution_count": 28,
     "metadata": {},
     "output_type": "execute_result"
    },
    {
     "data": {
      "image/png": "[encoded data removed]",
      "text/plain": [
       "<Figure size 432x288 with 1 Axes>"
      ]
     },
     "metadata": {},
     "output_type": "display_data"
    }
   ],
   "source": [
    "percentage = high.cancellation_policy.value_counts()/high.shape[0]\n",
    "plt.pie(percentage, labels=percentage.index, startangle=90, counterclock=False, autopct='%1.1f%%')\n",
    "plt.axis('square')"
   ]
  },
  {
   "cell_type": "markdown",
   "metadata": {},
   "source": [
    "### Finding 2.2.\n",
    "In the places with higher rate, the cancelation policy tends to be modern or strict. <br>\n",
    "There are three main components: \"strict_14_with_grace_period\", \"moderate\" and  \"flexible.\" <br>\n",
    "The percentage of flexible policy is lower (22%) than other two (over 38%) "
   ]
  },
  {
   "cell_type": "markdown",
   "metadata": {},
   "source": [
    "### 2.3 Analyze the importance of host_response_rate for getting higher rate"
   ]
  },
  {
   "cell_type": "code",
   "execution_count": 29,
   "metadata": {},
   "outputs": [
    {
     "name": "stderr",
     "output_type": "stream",
     "text": [
      "/opt/anaconda3/lib/python3.7/site-packages/ipykernel_launcher.py:3: SettingWithCopyWarning: \n",
      "A value is trying to be set on a copy of a slice from a DataFrame.\n",
      "Try using .loc[row_indexer,col_indexer] = value instead\n",
      "\n",
      "See the caveats in the documentation: https://pandas.pydata.org/pandas-docs/stable/user_guide/indexing.html#returning-a-view-versus-a-copy\n",
      "  This is separate from the ipykernel package so we can avoid doing imports until\n",
      "/opt/anaconda3/lib/python3.7/site-packages/ipykernel_launcher.py:4: SettingWithCopyWarning: \n",
      "A value is trying to be set on a copy of a slice from a DataFrame.\n",
      "Try using .loc[row_indexer,col_indexer] = value instead\n",
      "\n",
      "See the caveats in the documentation: https://pandas.pydata.org/pandas-docs/stable/user_guide/indexing.html#returning-a-view-versus-a-copy\n",
      "  after removing the cwd from sys.path.\n",
      "/opt/anaconda3/lib/python3.7/site-packages/ipykernel_launcher.py:6: SettingWithCopyWarning: \n",
      "A value is trying to be set on a copy of a slice from a DataFrame.\n",
      "Try using .loc[row_indexer,col_indexer] = value instead\n",
      "\n",
      "See the caveats in the documentation: https://pandas.pydata.org/pandas-docs/stable/user_guide/indexing.html#returning-a-view-versus-a-copy\n",
      "  \n"
     ]
    }
   ],
   "source": [
    "high_response = high.dropna(subset = ['host_response_rate'])\n",
    "\n",
    "high_response['host_response_rate_flag'] = 0\n",
    "high_response['host_response_rate'] = high_response['host_response_rate'].str.replace('%', '').astype('int')\n",
    "\n",
    "high_response['host_response_rate_flag'] = high_response['host_response_rate_flag'].where(high_response['host_response_rate'] < 90, 1)"
   ]
  },
  {
   "cell_type": "code",
   "execution_count": 30,
   "metadata": {},
   "outputs": [
    {
     "data": {
      "text/plain": [
       "0       0\n",
       "3       1\n",
       "4       1\n",
       "6       1\n",
       "7       1\n",
       "       ..\n",
       "3313    1\n",
       "3323    1\n",
       "3372    1\n",
       "3409    1\n",
       "3412    1\n",
       "Name: host_response_rate_flag, Length: 4613, dtype: int64"
      ]
     },
     "execution_count": 30,
     "metadata": {},
     "output_type": "execute_result"
    }
   ],
   "source": [
    "high_response['host_response_rate_flag']"
   ]
  },
  {
   "cell_type": "code",
   "execution_count": 31,
   "metadata": {},
   "outputs": [
    {
     "data": {
      "text/plain": [
       "0.9308476045957078"
      ]
     },
     "execution_count": 31,
     "metadata": {},
     "output_type": "execute_result"
    }
   ],
   "source": [
    "high_response['host_response_rate_flag'].sum()/len(high_response)"
   ]
  },
  {
   "cell_type": "markdown",
   "metadata": {},
   "source": [
    "### Finding 2.3.\n",
    "About 90% of hosts with higher review scores has over 90% of response rate. "
   ]
  },
  {
   "cell_type": "markdown",
   "metadata": {},
   "source": [
    "## 2.4. Analyze the popular room type\n",
    "Finally, I will analyze what is popular room type. "
   ]
  },
  {
   "cell_type": "code",
   "execution_count": 32,
   "metadata": {},
   "outputs": [
    {
     "data": {
      "text/plain": [
       "array(['Entire home/apt', 'Private room', 'Shared room', 'Hotel room'],\n",
       "      dtype=object)"
      ]
     },
     "execution_count": 32,
     "metadata": {},
     "output_type": "execute_result"
    }
   ],
   "source": [
    "high.room_type.unique()"
   ]
  },
  {
   "cell_type": "code",
   "execution_count": 33,
   "metadata": {
    "scrolled": true
   },
   "outputs": [
    {
     "name": "stdout",
     "output_type": "stream",
     "text": [
      "Entire home/apt: 0.732313260941099\n",
      "Private room: 0.2548535702533728\n",
      "Shared room: 0.007568279039157618\n",
      "Hotel room: 0.0052648897663705166\n"
     ]
    }
   ],
   "source": [
    "# relationshio between cancelation policy and rating\n",
    "rooms = list(high.room_type.unique())\n",
    "dist_of_cancelation = []\n",
    "total = len(high)\n",
    "x = 0\n",
    "\n",
    "for room in rooms:\n",
    "    length = len(high[high['room_type'] == room])\n",
    "    dist_of_cancelation.append(length)\n",
    "    print(\"{0}: \".format(rooms[x]) + str(dist_of_cancelation[x]/total))\n",
    "    x += 1"
   ]
  },
  {
   "cell_type": "code",
   "execution_count": 35,
   "metadata": {},
   "outputs": [
    {
     "data": {
      "text/plain": [
       "(-1.1100033857740386,\n",
       " 1.1191237291954328,\n",
       " -1.1163671281203624,\n",
       " 1.112759986849109)"
      ]
     },
     "execution_count": 35,
     "metadata": {},
     "output_type": "execute_result"
    },
    {
     "data": {
      "image/png": "[encoded data removed]",
      "text/plain": [
       "<Figure size 432x288 with 1 Axes>"
      ]
     },
     "metadata": {},
     "output_type": "display_data"
    }
   ],
   "source": [
    "percentage = high.room_type.value_counts()/high.shape[0]\n",
    "percentage.rename(index = {\"Shared room\":\"\", \"Hotel room\": \"\"}, inplace = True)\n",
    "plt.pie(percentage, labels=percentage.index, startangle=90, counterclock=False, autopct='%1.1f%%')\n",
    "plt.axis('square')"
   ]
  },
  {
   "cell_type": "markdown",
   "metadata": {},
   "source": [
    "### 2.4. Finding \n",
    "The raph shows that 73% of room with high review score type is Entire home/apt and 25% is Private room."
   ]
  },
  {
   "cell_type": "markdown",
   "metadata": {},
   "source": [
    "  "
   ]
  },
  {
   "cell_type": "markdown",
   "metadata": {},
   "source": [
    "## Answering Question\n",
    "\n",
    "### 1. What are the important elements for hosts/rooms to be booked maltiple times?\n",
    "Answer - Judging from the result of clustering, review score and response rate are the important elements and they should be high (over 90%)\n",
    "\n",
    "### 2. What is the price range of hosts/rooms booked maltiple times?\n",
    "Answer - The average price of 75% of hosts/rooms is less than ＄170.  \n",
    "Also, 72% of room price is between ＄40 and ＄170. \n",
    "\n",
    "### 3. What are the features of hosts/rooms with higher review score? \n",
    "Answer - It can be seen that the hosts/rooms with higher review scores have high response rate (93%).<br>\n",
    "Additionally, 73% of roomtypes of them is  Entire home/apt and 26% is private room. Shared room and hotel room are not usual for room types with high review score.\n",
    "\n",
    "\n"
   ]
  },
  {
   "cell_type": "code",
   "execution_count": null,
   "metadata": {},
   "outputs": [],
   "source": []
  }
 ],
 "metadata": {
  "kernelspec": {
   "display_name": "Python 3",
   "language": "python",
   "name": "python3"
  },
  "language_info": {
   "codemirror_mode": {
    "name": "ipython",
    "version": 3
   },
   "file_extension": ".py",
   "mimetype": "text/x-python",
   "name": "python",
   "nbconvert_exporter": "python",
   "pygments_lexer": "ipython3",
   "version": "3.7.6"
  }
 },
 "nbformat": 4,
 "nbformat_minor": 4
}
